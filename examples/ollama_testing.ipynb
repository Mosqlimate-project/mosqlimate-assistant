{
 "cells": [
  {
   "cell_type": "code",
   "execution_count": 1,
   "id": "841c19f8",
   "metadata": {},
   "outputs": [],
   "source": [
    "from mosqlimate_assistant import assistant_ollama"
   ]
  },
  {
   "cell_type": "code",
   "execution_count": 2,
   "id": "2e64f6a9",
   "metadata": {},
   "outputs": [],
   "source": [
    "perguntas_com_contexto = [\n",
    "    \"Quero casos de dengue na cidade de São Paulo, SP no ano de 2023\",\n",
    "    \"Quero dados sobre a dengue no Brasil\",\n",
    "    \"Quero dados sobre a dengue na Bahia\",\n",
    "    \"Quero dados sobre a dengue na Bahia em 2023\",\n",
    "    \"Quero dados sobre a dengue na Bahia em 2023 e 2024\",\n",
    "    \"Quero dados sobre a dengue na cidade de São Paulo, SP, em 2023 e 2024 e 2025\",\n",
    "    \"Quero dados sobre o zika virus no Rio de janeiro em 2023\"\n",
    "    \"Quero dados sobre o Chikungunhya no Rio de janeiro em 2023 e 2024\",\n",
    "    \"Quero dados climáticos do Mato Grosso do Sul em 2020\",\n",
    "    \"Quero epidemias de dengue em São Paulo, SP, no ano de 2023\",\n",
    "]"
   ]
  },
  {
   "cell_type": "code",
   "execution_count": 3,
   "id": "4655a2fe",
   "metadata": {},
   "outputs": [],
   "source": [
    "query = \"quais os dados de dengue no Brasil entre 2021 e 2022?\""
   ]
  },
  {
   "cell_type": "code",
   "execution_count": 4,
   "id": "1e6b3116",
   "metadata": {},
   "outputs": [
    {
     "name": "stdout",
     "output_type": "stream",
     "text": [
      "llama3.2:latest\n",
      "{'table': 'infodengue', 'disease': 'dengue', 'start': '2021-01-01', 'end': '2022-12-31'}\n"
     ]
    },
    {
     "data": {
      "text/plain": [
       "'https://api.mosqlimate.org/api/datastore/infodengue?page=1&per_page=100&disease=dengue&start=2021-01-01&end=2022-12-31'"
      ]
     },
     "execution_count": 4,
     "metadata": {},
     "output_type": "execute_result"
    }
   ],
   "source": [
    "assistant_ollama.make_query_and_get_url(query)"
   ]
  },
  {
   "cell_type": "code",
   "execution_count": null,
   "id": "a9db3525",
   "metadata": {},
   "outputs": [],
   "source": []
  }
 ],
 "metadata": {
  "kernelspec": {
   "display_name": ".venv",
   "language": "python",
   "name": "python3"
  },
  "language_info": {
   "codemirror_mode": {
    "name": "ipython",
    "version": 3
   },
   "file_extension": ".py",
   "mimetype": "text/x-python",
   "name": "python",
   "nbconvert_exporter": "python",
   "pygments_lexer": "ipython3",
   "version": "3.11.11"
  }
 },
 "nbformat": 4,
 "nbformat_minor": 5
}
