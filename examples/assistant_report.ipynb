{
 "cells": [
  {
   "cell_type": "code",
   "execution_count": 1,
   "metadata": {},
   "outputs": [],
   "source": [
    "from mosqlimate_assistant import input_validator, assistant\n",
    "import pandas as pd"
   ]
  },
  {
   "cell_type": "markdown",
   "metadata": {},
   "source": [
    "### Verificando o validador de input para perguntas fora do contexto do assistente"
   ]
  },
  {
   "cell_type": "code",
   "execution_count": 2,
   "metadata": {},
   "outputs": [],
   "source": [
    "perguntas_sem_contexto = [\n",
    "    \"Qual é a capital da França?\",\n",
    "    \"Quem escreveu 'Dom Casmurro'?\",\n",
    "    \"Qual é a fórmula da água?\",\n",
    "    \"Quem pintou a Mona Lisa?\",\n",
    "    \"Qual é a montanha mais alta do mundo?\",\n",
    "    \"Quem foi o primeiro presidente dos Estados Unidos?\",\n",
    "    \"Qual é o maior oceano do mundo?\",\n",
    "    \"Quem descobriu o Brasil?\",\n",
    "    \"Qual é a língua oficial do Brasil?\",\n",
    "    \"Qual é a moeda do Japão?\",\n",
    "    \"Quem foi Albert Einstein?\",\n",
    "    \"Qual é a fórmula da gravidade?\",\n",
    "    \"Quero dados sobre fórmula 1\",\n",
    "    \"Quero dados sobre competições de vela\",\n",
    "    \"Quero informações sobre o campeonato brasileiro de futebol\",\n",
    "    \"Quero dados sobre a história do Brasil\",\n",
    "]"
   ]
  },
  {
   "cell_type": "code",
   "execution_count": null,
   "metadata": {},
   "outputs": [
    {
     "name": "stdout",
     "output_type": "stream",
     "text": [
      "Pergunta: Qual é a capital da França?\n",
      "57.35% de similaridade\n",
      "Pergunta: Quem escreveu 'Dom Casmurro'?\n",
      "58.18% de similaridade\n",
      "Pergunta: Qual é a fórmula da água?\n",
      "60.66% de similaridade\n",
      "Pergunta: Quem pintou a Mona Lisa?\n",
      "53.01% de similaridade\n",
      "Pergunta: Qual é a montanha mais alta do mundo?\n",
      "61.76% de similaridade\n",
      "Pergunta: Quem foi o primeiro presidente dos Estados Unidos?\n",
      "55.38% de similaridade\n",
      "Pergunta: Qual é o maior oceano do mundo?\n",
      "65.28% de similaridade\n",
      "Pergunta: Quem descobriu o Brasil?\n",
      "60.59% de similaridade\n",
      "Pergunta: Qual é a língua oficial do Brasil?\n",
      "54.61% de similaridade\n",
      "Pergunta: Qual é a moeda do Japão?\n",
      "58.54% de similaridade\n",
      "Pergunta: Quem foi Albert Einstein?\n",
      "54.41% de similaridade\n",
      "Pergunta: Qual é a fórmula da gravidade?\n",
      "60.25% de similaridade\n",
      "Pergunta: Quero dados sobre fórmula 1\n",
      "54.27% de similaridade\n",
      "Pergunta: Quero dados sobre competições de vela\n",
      "61.48% de similaridade\n",
      "Pergunta: Quero informações sobre o campeonato brasileiro de futebol\n",
      "64.90% de similaridade\n",
      "Pergunta: Quero dados sobre a história do Brasil\n",
      "61.01% de similaridade\n"
     ]
    }
   ],
   "source": [
    "faiss_db = input_validator.load_local_db(\"../data/asks_db\")\n",
    "max_sim = 0\n",
    "for pergunta in perguntas_sem_contexto:\n",
    "    print(f\"Pergunta: {pergunta}\")\n",
    "    score = faiss_db.similarity_search_with_score(pergunta, k=1)\n",
    "    print(f\"{score[0][1]*100:.2f}% de similaridade\")\n",
    "    if score[0][1] > max_sim:\n",
    "        max_sim = score[0][1]"
   ]
  },
  {
   "cell_type": "code",
   "execution_count": 4,
   "metadata": {},
   "outputs": [
    {
     "name": "stdout",
     "output_type": "stream",
     "text": [
      "Maior similaridade sem contexto: 65.28%\n"
     ]
    }
   ],
   "source": [
    "print(f\"Maior similaridade sem contexto: {max_sim*100:.2f}%\")"
   ]
  },
  {
   "cell_type": "markdown",
   "metadata": {},
   "source": [
    "### Verificando o validador de input para perguntas do contexto do assistente"
   ]
  },
  {
   "cell_type": "code",
   "execution_count": 5,
   "metadata": {},
   "outputs": [],
   "source": [
    "perguntas_com_contexto = [\n",
    "    \"Quero casos de dengue na cidade de São Paulo, SP no ano de 2023\",\n",
    "    \"Quero dados sobre a dengue no Brasil\",\n",
    "    \"Quero dados sobre a dengue na Bahia\",\n",
    "    \"Quero dados sobre a dengue na Bahia em 2023\",\n",
    "    \"Quero dados sobre a dengue na Bahia em 2023 e 2024\",\n",
    "    \"Quero dados sobre a dengue na cidade de São Paulo, SP, em 2023 e 2024 e 2025\",\n",
    "    \"Quero dados sobre o zika virus no Rio de janeiro em 2023\"\n",
    "    \"Quero dados sobre o Chikungunhya no Rio de janeiro em 2023 e 2024\",\n",
    "    \"Quero dados climáticos do Mato Grosso do Sul em 2020\",\n",
    "    \"Quero epidemias de dengue em São Paulo, SP, no ano de 2023\",\n",
    "]"
   ]
  },
  {
   "cell_type": "code",
   "execution_count": 6,
   "metadata": {},
   "outputs": [
    {
     "name": "stdout",
     "output_type": "stream",
     "text": [
      "Pergunta: Quero casos de dengue na cidade de São Paulo, SP no ano de 2023\n",
      "100.00% de similaridade\n",
      "Pergunta: Quero dados sobre a dengue no Brasil\n",
      "87.25% de similaridade\n",
      "Pergunta: Quero dados sobre a dengue na Bahia\n",
      "83.03% de similaridade\n",
      "Pergunta: Quero dados sobre a dengue na Bahia em 2023\n",
      "88.55% de similaridade\n",
      "Pergunta: Quero dados sobre a dengue na Bahia em 2023 e 2024\n",
      "88.35% de similaridade\n",
      "Pergunta: Quero dados sobre a dengue na cidade de São Paulo, SP, em 2023 e 2024 e 2025\n",
      "96.67% de similaridade\n",
      "Pergunta: Quero dados sobre o zika virus no Rio de janeiro em 2023Quero dados sobre o Chikungunhya no Rio de janeiro em 2023 e 2024\n",
      "92.25% de similaridade\n",
      "Pergunta: Quero dados climáticos do Mato Grosso do Sul em 2020\n",
      "85.84% de similaridade\n",
      "Pergunta: Quero epidemias de dengue em São Paulo, SP, no ano de 2023\n",
      "96.08% de similaridade\n"
     ]
    }
   ],
   "source": [
    "min_sim = float(\"inf\")\n",
    "\n",
    "for pergunta in perguntas_com_contexto:\n",
    "    print(f\"Pergunta: {pergunta}\")\n",
    "    score = faiss_db.similarity_search_with_score(pergunta, k=1)\n",
    "    print(f\"{score[0][1]*100:.2f}% de similaridade\")\n",
    "    if score[0][1] < min_sim:\n",
    "        min_sim = score[0][1]\n"
   ]
  },
  {
   "cell_type": "code",
   "execution_count": 7,
   "metadata": {},
   "outputs": [
    {
     "name": "stdout",
     "output_type": "stream",
     "text": [
      "Menor similaridade com contexto: 83.03%\n"
     ]
    }
   ],
   "source": [
    "print(f\"Menor similaridade com contexto: {min_sim*100:.2f}%\")"
   ]
  },
  {
   "cell_type": "markdown",
   "metadata": {},
   "source": [
    "### Verificando o validador de input para perguntas enganosas"
   ]
  },
  {
   "cell_type": "code",
   "execution_count": 8,
   "metadata": {},
   "outputs": [],
   "source": [
    "perguntas_de_indecisao = [\n",
    "    \"Quero comparar os dados de dengue no Brasil e na Bahia\",\n",
    "    \"Quero comparar os dados de dengue no Brasil e na Bahia em 2023\",\n",
    "    \"Quero comparar os dados de dengue entre 2019 e 2023\",\n",
    "    \"Quero dados do coronavírus no Paraná em 2021\",\n",
    "    \"Quero dados do coronavírus no Paraná e no Rio de Janeiro em 2021\",\n",
    "    \"Quero comparar a chickungunya entre 2020 e 2021\",\n",
    "    \"Quero comparar a zika no Rio Grande do Sul e na Paraíba\",\n",
    "]"
   ]
  },
  {
   "cell_type": "code",
   "execution_count": 9,
   "metadata": {},
   "outputs": [
    {
     "name": "stdout",
     "output_type": "stream",
     "text": [
      "Pergunta: Quero comparar os dados de dengue no Brasil e na Bahia\n",
      "80.89% de similaridade\n",
      "Pergunta: Quero comparar os dados de dengue no Brasil e na Bahia em 2023\n",
      "89.18% de similaridade\n",
      "Pergunta: Quero comparar os dados de dengue entre 2019 e 2023\n",
      "89.22% de similaridade\n",
      "Pergunta: Quero dados do coronavírus no Paraná em 2021\n",
      "75.70% de similaridade\n",
      "Pergunta: Quero dados do coronavírus no Paraná e no Rio de Janeiro em 2021\n",
      "79.02% de similaridade\n",
      "Pergunta: Quero comparar a chickungunya entre 2020 e 2021\n",
      "74.83% de similaridade\n",
      "Pergunta: Quero comparar a zika no Rio Grande do Sul e na Paraíba\n",
      "84.71% de similaridade\n"
     ]
    }
   ],
   "source": [
    "max_sim = 0\n",
    "\n",
    "for pergunta in perguntas_de_indecisao:\n",
    "    print(f\"Pergunta: {pergunta}\")\n",
    "    score = faiss_db.similarity_search_with_score(pergunta, k=1)\n",
    "    print(f\"{score[0][1]*100:.2f}% de similaridade\")\n",
    "    if score[0][1] > max_sim:\n",
    "        max_sim = score[0][1]"
   ]
  },
  {
   "cell_type": "code",
   "execution_count": 10,
   "metadata": {},
   "outputs": [
    {
     "name": "stdout",
     "output_type": "stream",
     "text": [
      "Maior similaridade com indecisão: 89.22%\n"
     ]
    }
   ],
   "source": [
    "print(f\"Maior similaridade com indecisão: {max_sim*100:.2f}%\")"
   ]
  },
  {
   "cell_type": "code",
   "execution_count": 11,
   "metadata": {},
   "outputs": [],
   "source": [
    "asks_df = pd.read_csv(\"./data/asks.csv\")"
   ]
  },
  {
   "cell_type": "code",
   "execution_count": 12,
   "metadata": {},
   "outputs": [
    {
     "data": {
      "text/html": [
       "<div>\n",
       "<style scoped>\n",
       "    .dataframe tbody tr th:only-of-type {\n",
       "        vertical-align: middle;\n",
       "    }\n",
       "\n",
       "    .dataframe tbody tr th {\n",
       "        vertical-align: top;\n",
       "    }\n",
       "\n",
       "    .dataframe thead th {\n",
       "        text-align: right;\n",
       "    }\n",
       "</style>\n",
       "<table border=\"1\" class=\"dataframe\">\n",
       "  <thead>\n",
       "    <tr style=\"text-align: right;\">\n",
       "      <th></th>\n",
       "      <th>Tabela</th>\n",
       "      <th>Pergunta</th>\n",
       "      <th>JSON</th>\n",
       "    </tr>\n",
       "  </thead>\n",
       "  <tbody>\n",
       "    <tr>\n",
       "      <th>7</th>\n",
       "      <td>infodengue</td>\n",
       "      <td>Informações de chikungunya em Porto Alegre, RS...</td>\n",
       "      <td>{\"table\": \"infodengue\", \"disease\": \"chikunguny...</td>\n",
       "    </tr>\n",
       "    <tr>\n",
       "      <th>12</th>\n",
       "      <td>infodengue</td>\n",
       "      <td>Quero dados de dengue em Goiânia, GO no ano de...</td>\n",
       "      <td>{\"table\": \"infodengue\", \"disease\": \"dengue\", \"...</td>\n",
       "    </tr>\n",
       "    <tr>\n",
       "      <th>23</th>\n",
       "      <td>infodengue</td>\n",
       "      <td>Informações de chikungunya no ano de 2021</td>\n",
       "      <td>{\"table\": \"infodengue\", \"disease\": \"chikunguny...</td>\n",
       "    </tr>\n",
       "    <tr>\n",
       "      <th>44</th>\n",
       "      <td>infodengue</td>\n",
       "      <td>Quero registros de dengue em Florianópolis, SC...</td>\n",
       "      <td>{\"table\": \"infodengue\", \"disease\": \"dengue\", \"...</td>\n",
       "    </tr>\n",
       "    <tr>\n",
       "      <th>79</th>\n",
       "      <td>infodengue</td>\n",
       "      <td>Informações de chikungunya em Recife, PE no an...</td>\n",
       "      <td>{\"table\": \"infodengue\", \"disease\": \"chikunguny...</td>\n",
       "    </tr>\n",
       "    <tr>\n",
       "      <th>123</th>\n",
       "      <td>climate</td>\n",
       "      <td>Quero dados climáticos do Rio de Janeiro em 2020</td>\n",
       "      <td>{\"table\": \"climate\", \"start\": \"2020-01-01\", \"e...</td>\n",
       "    </tr>\n",
       "    <tr>\n",
       "      <th>140</th>\n",
       "      <td>climate</td>\n",
       "      <td>Informações climáticas do Distrito Federal em ...</td>\n",
       "      <td>{\"table\": \"climate\", \"start\": \"2021-01-01\", \"e...</td>\n",
       "    </tr>\n",
       "    <tr>\n",
       "      <th>153</th>\n",
       "      <td>episcanner</td>\n",
       "      <td>Quero dados sobre a alastração da chikungunya ...</td>\n",
       "      <td>{\"table\": \"episcanner\", \"disease\": \"chikunguny...</td>\n",
       "    </tr>\n",
       "    <tr>\n",
       "      <th>167</th>\n",
       "      <td>episcanner</td>\n",
       "      <td>Dados sobre a expansão de chikungunya em Sergi...</td>\n",
       "      <td>{\"table\": \"episcanner\", \"disease\": \"chikunguny...</td>\n",
       "    </tr>\n",
       "    <tr>\n",
       "      <th>178</th>\n",
       "      <td>mosquito</td>\n",
       "      <td>Informações de armadilhas de mosquitos com a c...</td>\n",
       "      <td>{\"table\": \"mosquito\", \"key\": \"YZA567\"}</td>\n",
       "    </tr>\n",
       "  </tbody>\n",
       "</table>\n",
       "</div>"
      ],
      "text/plain": [
       "         Tabela                                           Pergunta  \\\n",
       "7    infodengue  Informações de chikungunya em Porto Alegre, RS...   \n",
       "12   infodengue  Quero dados de dengue em Goiânia, GO no ano de...   \n",
       "23   infodengue          Informações de chikungunya no ano de 2021   \n",
       "44   infodengue  Quero registros de dengue em Florianópolis, SC...   \n",
       "79   infodengue  Informações de chikungunya em Recife, PE no an...   \n",
       "123     climate   Quero dados climáticos do Rio de Janeiro em 2020   \n",
       "140     climate  Informações climáticas do Distrito Federal em ...   \n",
       "153  episcanner  Quero dados sobre a alastração da chikungunya ...   \n",
       "167  episcanner  Dados sobre a expansão de chikungunya em Sergi...   \n",
       "178    mosquito  Informações de armadilhas de mosquitos com a c...   \n",
       "\n",
       "                                                  JSON  \n",
       "7    {\"table\": \"infodengue\", \"disease\": \"chikunguny...  \n",
       "12   {\"table\": \"infodengue\", \"disease\": \"dengue\", \"...  \n",
       "23   {\"table\": \"infodengue\", \"disease\": \"chikunguny...  \n",
       "44   {\"table\": \"infodengue\", \"disease\": \"dengue\", \"...  \n",
       "79   {\"table\": \"infodengue\", \"disease\": \"chikunguny...  \n",
       "123  {\"table\": \"climate\", \"start\": \"2020-01-01\", \"e...  \n",
       "140  {\"table\": \"climate\", \"start\": \"2021-01-01\", \"e...  \n",
       "153  {\"table\": \"episcanner\", \"disease\": \"chikunguny...  \n",
       "167  {\"table\": \"episcanner\", \"disease\": \"chikunguny...  \n",
       "178             {\"table\": \"mosquito\", \"key\": \"YZA567\"}  "
      ]
     },
     "execution_count": 12,
     "metadata": {},
     "output_type": "execute_result"
    }
   ],
   "source": [
    "linhas_amostradas = [\n",
    "    7, 12, 23, 44, 79, 123, 140, 153, 167, 178, \n",
    "]\n",
    "asks_df.iloc[linhas_amostradas]"
   ]
  },
  {
   "cell_type": "markdown",
   "metadata": {},
   "source": [
    "### Vendo os resultados do modelo da api do deepseek para a tabela infodengue"
   ]
  },
  {
   "cell_type": "code",
   "execution_count": 13,
   "metadata": {},
   "outputs": [
    {
     "name": "stdout",
     "output_type": "stream",
     "text": [
      "Informações de chikungunya em Porto Alegre, RS durante 2023\n",
      "Expected Output: {\"table\": \"infodengue\", \"disease\": \"chikungunya\", \"start\": \"2023-01-01\", \"end\": \"2023-12-31\", \"uf\": \"RS\", \"city\": \"Porto Alegre\"}\n",
      "Model output:    {'table': 'infodengue', 'disease': 'chikungunya', 'start': '2023-01-01', 'end': '2023-12-31', 'uf': 'RS', 'city': 'Porto Alegre'}\n",
      "API URL: https://api.mosqlimate.org/api/datastore/infodengue?page=1&per_page=100&disease=chikungunya&start=2023-01-01&end=2023-12-31&uf=RS&geocode=4314902\n",
      "\n",
      "Quero dados de dengue em Goiânia, GO no ano de 2022\n",
      "Expected Output: {\"table\": \"infodengue\", \"disease\": \"dengue\", \"start\": \"2022-01-01\", \"end\": \"2022-12-31\", \"uf\": \"GO\", \"city\": \"Goiânia\"}\n",
      "Model output:    {'table': 'infodengue', 'disease': 'dengue', 'start': '2022-01-01', 'end': '2022-12-31', 'uf': 'GO', 'city': 'Goiânia'}\n",
      "API URL: https://api.mosqlimate.org/api/datastore/infodengue?page=1&per_page=100&disease=dengue&start=2022-01-01&end=2022-12-31&uf=GO&geocode=5208707\n",
      "\n",
      "Informações de chikungunya no ano de 2021\n",
      "Expected Output: {\"table\": \"infodengue\", \"disease\": \"chikungunya\", \"start\": \"2021-01-01\", \"end\": \"2021-12-31\"}\n",
      "Model output:    {'table': 'infodengue', 'disease': 'chikungunya', 'start': '2021-01-01', 'end': '2021-12-31'}\n",
      "API URL: https://api.mosqlimate.org/api/datastore/infodengue?page=1&per_page=100&disease=chikungunya&start=2021-01-01&end=2021-12-31\n",
      "\n",
      "Quero registros de dengue em Florianópolis, SC no ano de 2018\n",
      "Expected Output: {\"table\": \"infodengue\", \"disease\": \"dengue\", \"start\": \"2018-01-01\", \"end\": \"2018-12-31\", \"uf\": \"SC\", \"city\": \"Florianópolis\"}\n",
      "Model output:    {'table': 'infodengue', 'disease': 'dengue', 'start': '2018-01-01', 'end': '2018-12-31', 'uf': 'SC', 'city': 'Florianópolis'}\n",
      "API URL: https://api.mosqlimate.org/api/datastore/infodengue?page=1&per_page=100&disease=dengue&start=2018-01-01&end=2018-12-31&uf=SC&geocode=4205407\n",
      "\n",
      "Informações de chikungunya em Recife, PE no ano de 2020\n",
      "Expected Output: {\"table\": \"infodengue\", \"disease\": \"chikungunya\", \"start\": \"2020-01-01\", \"end\": \"2020-12-31\", \"uf\": \"PE\", \"city\": \"Recife\"}\n",
      "Model output:    {'table': 'infodengue', 'disease': 'chikungunya', 'start': '2020-01-01', 'end': '2020-12-31', 'uf': 'PE', 'city': 'Recife'}\n",
      "API URL: https://api.mosqlimate.org/api/datastore/infodengue?page=1&per_page=100&disease=chikungunya&start=2020-01-01&end=2020-12-31&uf=PE&geocode=2611606\n",
      "\n"
     ]
    }
   ],
   "source": [
    "for i, row in asks_df.iloc[linhas_amostradas[:5]].iterrows():\n",
    "    print(row[\"Pergunta\"])\n",
    "    print(\"Expected Output:\", row[\"JSON\"])\n",
    "\n",
    "    response = assistant.query_llm(row[\"Pergunta\"], save_logs=True)\n",
    "    print(\"Model output:   \", response)\n",
    "\n",
    "    api_url = assistant.generate_api_url(assistant.get_table_filters(response))\n",
    "    print(\"API URL:\", api_url)\n",
    "    print()"
   ]
  },
  {
   "cell_type": "markdown",
   "metadata": {},
   "source": [
    "### Vendo os resultados do modelo da api do deepseek para as outras tabelas"
   ]
  },
  {
   "cell_type": "code",
   "execution_count": 14,
   "metadata": {},
   "outputs": [
    {
     "name": "stdout",
     "output_type": "stream",
     "text": [
      "Quero dados climáticos do Rio de Janeiro em 2020\n",
      "Expected Output: {\"table\": \"climate\", \"start\": \"2020-01-01\", \"end\": \"2020-12-31\", \"uf\": \"RJ\"}\n",
      "Model output:    {'table': 'climate', 'start': '2020-01-01', 'end': '2020-12-31', 'uf': 'RJ', 'city': 'Rio de Janeiro'}\n",
      "API URL: https://api.mosqlimate.org/api/datastore/climate?page=1&per_page=100&start=2020-01-01&end=2020-12-31&uf=RJ&geocode=3304557\n",
      "\n",
      "Informações climáticas do Distrito Federal em 2021\n",
      "Expected Output: {\"table\": \"climate\", \"start\": \"2021-01-01\", \"end\": \"2021-12-31\", \"uf\": \"DF\"}\n",
      "Model output:    {'table': 'climate', 'start': '2021-01-01', 'end': '2021-12-31', 'uf': 'DF'}\n",
      "API URL: https://api.mosqlimate.org/api/datastore/climate?page=1&per_page=100&start=2021-01-01&end=2021-12-31&uf=DF\n",
      "\n",
      "Quero dados sobre a alastração da chikungunya no Ceará em 2022\n",
      "Expected Output: {\"table\": \"episcanner\", \"disease\": \"chikungunya\", \"uf\": \"CE\", \"year\": 2022}\n",
      "Model output:    {'table': 'episcanner', 'disease': 'chikungunya', 'uf': 'CE', 'year': 2022}\n",
      "API URL: https://api.mosqlimate.org/api/datastore/episcanner?disease=chikungunya&uf=CE&year=2022\n",
      "\n",
      "Dados sobre a expansão de chikungunya em Sergipe em 2021\n",
      "Expected Output: {\"table\": \"episcanner\", \"disease\": \"chikungunya\", \"uf\": \"SE\", \"year\": 2021}\n",
      "Model output:    {'table': 'episcanner', 'disease': 'chikungunya', 'uf': 'SE', 'year': 2021}\n",
      "API URL: https://api.mosqlimate.org/api/datastore/episcanner?disease=chikungunya&uf=SE&year=2021\n",
      "\n",
      "Informações de armadilhas de mosquitos com a chave YZA567\n",
      "Expected Output: {\"table\": \"mosquito\", \"key\": \"YZA567\"}\n",
      "Model output:    {'table': 'mosquito', 'key': 'YZA567'}\n",
      "API URL: https://api.mosqlimate.org/api/datastore/mosquito?page=1&key=YZA567\n",
      "\n"
     ]
    }
   ],
   "source": [
    "for i, row in asks_df.iloc[linhas_amostradas[5:]].iterrows():\n",
    "    print(row[\"Pergunta\"])\n",
    "    print(\"Expected Output:\", row[\"JSON\"])\n",
    "\n",
    "    response = assistant.query_llm(row[\"Pergunta\"], save_logs=True)\n",
    "    print(\"Model output:   \", response)\n",
    "\n",
    "    api_url = assistant.generate_api_url(assistant.get_table_filters(response))\n",
    "    print(\"API URL:\", api_url)\n",
    "    print()"
   ]
  }
 ],
 "metadata": {
  "kernelspec": {
   "display_name": ".venv",
   "language": "python",
   "name": "python3"
  },
  "language_info": {
   "codemirror_mode": {
    "name": "ipython",
    "version": 3
   },
   "file_extension": ".py",
   "mimetype": "text/x-python",
   "name": "python",
   "nbconvert_exporter": "python",
   "pygments_lexer": "ipython3",
   "version": "3.11.11"
  }
 },
 "nbformat": 4,
 "nbformat_minor": 2
}
