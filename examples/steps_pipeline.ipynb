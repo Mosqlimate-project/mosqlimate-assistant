{
 "cells": [
  {
   "cell_type": "code",
   "execution_count": 1,
   "id": "d795c42f",
   "metadata": {},
   "outputs": [],
   "source": [
    "from mosqlimate_assistant.assistant import AssistantGemini\n",
    "from mosqlimate_assistant.api_consumer import generate_api_url\n",
    "from mosqlimate_assistant.faiss_db import get_relevant_sample_asks\n",
    "from pprint import pprint"
   ]
  },
  {
   "cell_type": "markdown",
   "id": "09a25a17",
   "metadata": {},
   "source": [
    "### 1. Pergunta do Usuário"
   ]
  },
  {
   "cell_type": "code",
   "execution_count": 2,
   "id": "fb277fca",
   "metadata": {},
   "outputs": [],
   "source": [
    "question = \"Quais são os dados da dengue no Acre no primeiro trimestre de 2019?\""
   ]
  },
  {
   "cell_type": "code",
   "execution_count": 3,
   "id": "563d01bb",
   "metadata": {},
   "outputs": [],
   "source": [
    "assistente = AssistantGemini()"
   ]
  },
  {
   "cell_type": "markdown",
   "id": "a14e1b10",
   "metadata": {},
   "source": [
    "### 2. Verificar se a pergunta é relevante\n",
    "##### Aqui usamos o ollama e um banco de dados fixo"
   ]
  },
  {
   "cell_type": "code",
   "execution_count": 4,
   "id": "97d2bfe4",
   "metadata": {},
   "outputs": [],
   "source": [
    "relevant_questions, scores = get_relevant_sample_asks(question)"
   ]
  },
  {
   "cell_type": "code",
   "execution_count": 5,
   "id": "254d7e5e",
   "metadata": {},
   "outputs": [
    {
     "name": "stdout",
     "output_type": "stream",
     "text": [
      "Perguntas relevantes:\n",
      "- score: 0.78 | Quero registros de dengue em João Pessoa, PB no segundo semestre de 2019\n",
      "- score: 0.78 | Quero dados de denguede todo o Brasil em 2020\n",
      "- score: 0.78 | Quero registros de dengue em Manaus, AM em 2019\n"
     ]
    }
   ],
   "source": [
    "print(\"Perguntas relevantes:\")\n",
    "for relevant_question, score in zip(relevant_questions, scores):\n",
    "    print(f\"- score: {score:.2f} | {relevant_question['question']}\")\n"
   ]
  },
  {
   "cell_type": "markdown",
   "id": "27ed47ce",
   "metadata": {},
   "source": [
    "### 3. Fazer a pergunta ao modelo com exemplos relevantes\n",
    "##### Obs: O pipeline já está configurado para adicionar exemplos relevantes"
   ]
  },
  {
   "cell_type": "code",
   "execution_count": 6,
   "id": "e3aa878c",
   "metadata": {},
   "outputs": [],
   "source": [
    "model_answer = assistente.query_llm(\n",
    "    question,\n",
    "    relevant_questions,\n",
    "    False,\n",
    "    \".\"\n",
    ")"
   ]
  },
  {
   "cell_type": "code",
   "execution_count": 7,
   "id": "1f39fb7a",
   "metadata": {},
   "outputs": [
    {
     "name": "stdout",
     "output_type": "stream",
     "text": [
      "{'city': None,\n",
      " 'disease': 'dengue',\n",
      " 'end': '2019-03-31',\n",
      " 'key': None,\n",
      " 'start': '2019-01-01',\n",
      " 'table': 'infodengue',\n",
      " 'uf': 'AC',\n",
      " 'year': None}\n"
     ]
    }
   ],
   "source": [
    "pprint(model_answer)"
   ]
  },
  {
   "cell_type": "markdown",
   "id": "12cb7aff",
   "metadata": {},
   "source": [
    "### 4. Filtrar a resposta"
   ]
  },
  {
   "cell_type": "code",
   "execution_count": 8,
   "id": "a6ca36c7",
   "metadata": {},
   "outputs": [],
   "source": [
    "filtered_answer = assistente.get_table_filters(model_answer)"
   ]
  },
  {
   "cell_type": "code",
   "execution_count": 9,
   "id": "97586581",
   "metadata": {},
   "outputs": [
    {
     "name": "stdout",
     "output_type": "stream",
     "text": [
      "InfodengueFilters(table='infodengue', disease='dengue', start='2019-01-01', end='2019-03-31', uf='AC', city=None)\n"
     ]
    }
   ],
   "source": [
    "pprint(filtered_answer)"
   ]
  },
  {
   "cell_type": "markdown",
   "id": "3203cd65",
   "metadata": {},
   "source": [
    "### 5. Convertendo a resposta"
   ]
  },
  {
   "cell_type": "code",
   "execution_count": 10,
   "id": "26c0a952",
   "metadata": {},
   "outputs": [],
   "source": [
    "api_url = generate_api_url(filtered_answer)\n",
    "python_base_code = assistente.generate_mosqlient_infodengue_code(filtered_answer)"
   ]
  },
  {
   "cell_type": "code",
   "execution_count": 11,
   "id": "8a554ecd",
   "metadata": {},
   "outputs": [
    {
     "data": {
      "text/plain": [
       "'https://api.mosqlimate.org/api/datastore/infodengue?page=1&per_page=100&disease=dengue&start=2019-01-01&end=2019-03-31&uf=AC'"
      ]
     },
     "execution_count": 11,
     "metadata": {},
     "output_type": "execute_result"
    }
   ],
   "source": [
    "api_url"
   ]
  },
  {
   "cell_type": "code",
   "execution_count": 12,
   "id": "d1f3613f",
   "metadata": {},
   "outputs": [
    {
     "name": "stdout",
     "output_type": "stream",
     "text": [
      "from mosqlient import get_infodengue\n",
      "\n",
      "# return a pd.DataFrame with the data\n",
      "df = get_infodengue(start_date='2019-01-01',end_date='2019-03-31',disease='dengue',uf='AC')\n"
     ]
    }
   ],
   "source": [
    "print(python_base_code)"
   ]
  }
 ],
 "metadata": {
  "kernelspec": {
   "display_name": ".venv",
   "language": "python",
   "name": "python3"
  },
  "language_info": {
   "codemirror_mode": {
    "name": "ipython",
    "version": 3
   },
   "file_extension": ".py",
   "mimetype": "text/x-python",
   "name": "python",
   "nbconvert_exporter": "python",
   "pygments_lexer": "ipython3",
   "version": "3.11.12"
  }
 },
 "nbformat": 4,
 "nbformat_minor": 5
}
