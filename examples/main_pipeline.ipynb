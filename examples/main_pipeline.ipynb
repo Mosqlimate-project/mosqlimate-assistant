{
 "cells": [
  {
   "cell_type": "code",
   "execution_count": 1,
   "id": "72684fec",
   "metadata": {},
   "outputs": [],
   "source": [
    "from mosqlimate_assistant import main"
   ]
  },
  {
   "cell_type": "code",
   "execution_count": 2,
   "id": "2ce0fa5a",
   "metadata": {},
   "outputs": [],
   "source": [
    "questions = [\n",
    "    \"O que você pode fazer?\",\n",
    "    \"Quais são os dados disponíveis na plataforma?\",\n",
    "    \"Como posso registrar modelos?\",\n",
    "    \"Qual é a capital do Brasil?\",\n",
    "    \"Me ajude a configurar minha chave de acesso.\",\n",
    "    \"Quero dados referentes a dengue no Brasil em Janeiro de 2023.\",\n",
    "]"
   ]
  },
  {
   "cell_type": "code",
   "execution_count": 3,
   "id": "3e391dbc",
   "metadata": {},
   "outputs": [
    {
     "name": "stdout",
     "output_type": "stream",
     "text": [
      "Pergunta: O que você pode fazer?\n",
      "Resposta: Eu sou um assistente especializado na plataforma Mosqlimate. Minhas principais funções são:\n",
      "\n",
      "- Explicar sobre a plataforma Mosqlimate e seus componentes.\n",
      "- Orientar sobre o uso da API, autenticação, endpoints e parâmetros.\n",
      "- Esclarecer dúvidas sobre os dados disponíveis (InfoDengue, Climate, Mosquito, EpiScanner).\n",
      "- Explicar conceitos técnicos e operacionais da plataforma.\n",
      "- Fornecer exemplos práticos de uso.\n",
      "\n"
     ]
    }
   ],
   "source": [
    "print(\"Pergunta:\", questions[0])\n",
    "print(\"Resposta:\", main.assistant_pipeline(questions[0]))"
   ]
  },
  {
   "cell_type": "code",
   "execution_count": 4,
   "id": "c3d2b6ed",
   "metadata": {},
   "outputs": [
    {
     "name": "stdout",
     "output_type": "stream",
     "text": [
      "Pergunta: Quais são os dados disponíveis na plataforma?\n",
      "Resposta: A plataforma Mosqlimate disponibiliza os seguintes conjuntos de dados:\n",
      "\n",
      "*   **InfoDengue**\n",
      "*   **Climate**\n",
      "*   **Mosquito**\n",
      "*   **EpiScanner**\n",
      "\n",
      "Para mais detalhes sobre cada um desses conjuntos de dados, você pode consultar a documentação oficial da plataforma.\n"
     ]
    }
   ],
   "source": [
    "print(\"Pergunta:\", questions[1])\n",
    "print(\"Resposta:\", main.assistant_pipeline(questions[1]))"
   ]
  },
  {
   "cell_type": "code",
   "execution_count": 5,
   "id": "f31c808c",
   "metadata": {},
   "outputs": [
    {
     "name": "stdout",
     "output_type": "stream",
     "text": [
      "Pergunta: Como posso registrar modelos?\n",
      "Resposta: Para registrar modelos na plataforma Mosqlimate, você pode usar o endpoint `POST /models/` da API de registro (registry).\n",
      "\n",
      "**O que você precisa:**\n",
      "\n",
      "1.  **Ter uma conta na plataforma:** Isso é necessário para obter a chave de API do usuário (X-UID-Key), que é utilizada para autenticação.\n",
      "2.  **Ter o código do seu modelo em um repositório GitHub:** O Mosqlimate requer que o código do modelo esteja disponível em um repositório GitHub público ou privado.\n",
      "3.  **Chave de API do usuário (X-UID-Key):** É necessária para fazer requisições POST.\n",
      "\n",
      "**Parâmetros de entrada:**\n",
      "\n",
      "Ao fazer a requisição POST para o endpoint `/models/`, você precisará fornecer os seguintes parâmetros:\n",
      "\n",
      "*   `name` (str): Nome do modelo.\n",
      "*   `description` (str ou None): Descrição do modelo.\n",
      "*   `repository` (str): URL do repositório GitHub.\n",
      "*   `implementation_language` (str): Linguagem de implementação do modelo (e.g., \"Python\", \"R\"). As linguagens suportadas são: Python, C, C#, C++, CoffeeScript, .NET, Erlang, Go, Haskell, JavaScript, Java, Kotlin, Lua, R, Ruby, Rust, Zig.\n",
      "*   `disease` (str): Doença que o modelo visa prever (opções: \"Dengue\", \"Zika\" e \"Chikungunya\").\n",
      "*   `temporal` (bool): Indica se o modelo é temporal.\n",
      "*   `spatial` (bool): Indica se o modelo é espacial.\n",
      "*   `categorical` (bool): Indica se o modelo é categórico.\n",
      "*   `adm_level` (int): Nível administrativo (0, 1, 2 ou 3 para Nacional, Estadual, Municipal e Submunicipal, respectivamente).\n",
      "*   `time_resolution` (str): Resolução temporal (opções: \"day\", \"week\", \"month\" ou \"year\").\n",
      "*   `sprint` (bool): Se o modelo é para o Sprint 2024/25.\n",
      "\n",
      "**Exemplos de uso:**\n",
      "\n",
      "A documentação fornece exemplos de como fazer isso usando Python, R e CURL. Segue um exemplo em Python:\n",
      "\n",
      "```python\n",
      "from mosqlient import upload_model\n",
      "\n",
      "upload_model(\n",
      "    name=\"My Nowcasting Model\",\n",
      "    description=\"My Model description\",\n",
      "    repository=\"https://github.com/Mosqlimate-project/Data-platform\",\n",
      "    implementation_language=\"Python\",\n",
      "    disease=\"dengue\",\n",
      "    temporal=False,\n",
      "    spatial=True,\n",
      "    categorical=False,\n",
      "    adm_level=0, # National\n",
      "    time_resolution=\"week\",\n",
      "    sprint=False\n",
      ")\n",
      "```\n",
      "\n",
      "**Observações importantes:**\n",
      "\n",
      "*   As requisições POST necessitam da chave de API do usuário (X-UID-Key).\n",
      "*   O pacote `mosqlient` aceita um DataFrame pandas com as chaves necessárias como alternativa a um JSON no parâmetro de predição.\n",
      "\n",
      "Lembre-se de consultar a documentação oficial para obter informações mais detalhadas e exemplos em outras linguagens.\n"
     ]
    }
   ],
   "source": [
    "print(\"Pergunta:\", questions[2])\n",
    "print(\"Resposta:\", main.assistant_pipeline(questions[2]))"
   ]
  },
  {
   "cell_type": "code",
   "execution_count": 6,
   "id": "30b926d7",
   "metadata": {},
   "outputs": [
    {
     "name": "stdout",
     "output_type": "stream",
     "text": [
      "Pergunta: Qual é a capital do Brasil?\n",
      "Resposta: Desculpe, eu posso te ajudar apenas com informações e instruções sobre a plataforma Mosqlimate, seus recursos, funcionalidades e dados disponíveis, com base nas documentações oficiais fornecidas.\n"
     ]
    }
   ],
   "source": [
    "print(\"Pergunta:\", questions[3])\n",
    "print(\"Resposta:\", main.assistant_pipeline(questions[3]))"
   ]
  },
  {
   "cell_type": "code",
   "execution_count": 7,
   "id": "89853c77",
   "metadata": {},
   "outputs": [
    {
     "name": "stdout",
     "output_type": "stream",
     "text": [
      "Pergunta: Me ajude a configurar minha chave de acesso.\n",
      "Resposta: Para configurar sua chave de acesso (X-UID-Key) na plataforma Mosqlimate, siga estas instruções:\n",
      "\n",
      "1.  **Autenticação via GitHub:**\n",
      "    *   Primeiro, você precisa ter uma conta na plataforma Mosqlimate.\n",
      "    *   A autenticação é feita através do GitHub.\n",
      "\n",
      "2.  **Geração do Token:**\n",
      "    *   Após a autenticação, acesse a página do seu perfil de usuário na plataforma. O endereço segue o padrão: `https://api.mosqlimate.org/<seu_nome_de_usuario>/`.\n",
      "    *   Nesta página, você encontrará o seu token `X-UID-Key` gerado.\n",
      "\n",
      "3.  **Utilização da Chave:**\n",
      "    *   Inclua o token `X-UID-Key` no cabeçalho de todas as requisições que você fizer à API da Mosqlimate.\n",
      "\n",
      "4.  **Exemplo de Cabeçalho:**\n",
      "    *   Ao fazer uma requisição, o cabeçalho deve incluir a seguinte linha, substituindo `<SUA_CHAVE_UID>` pelo seu token:\n",
      "\n",
      "    ```\n",
      "    X-UID-Key: <SUA_CHAVE_UID>\n",
      "    ```\n",
      "\n",
      "5.  **Autorização no API Demo:**\n",
      "    *   Para testar os endpoints usando o [API Demo](https://api.mosqlimate.org/api/docs), insira sua `X-UID-Key` no campo \"Authorize\" (sem aspas).\n",
      "\n",
      "Lembre-se que a chave `X-UID-Key` é pessoal e intransferível. Mantenha-a em segurança e não a compartilhe com terceiros.\n"
     ]
    }
   ],
   "source": [
    "print(\"Pergunta:\", questions[4])\n",
    "print(\"Resposta:\", main.assistant_pipeline(questions[4]))"
   ]
  },
  {
   "cell_type": "code",
   "execution_count": 8,
   "id": "30ecc187",
   "metadata": {},
   "outputs": [
    {
     "name": "stdout",
     "output_type": "stream",
     "text": [
      "Pergunta: Quero dados referentes a dengue no Brasil em Janeiro de 2023.\n",
      "Resposta: URL da API desejada:\n",
      "`https://api.mosqlimate.org/api/datastore/infodengue?page=1&per_page=100&disease=dengue&start=2023-01-01&end=2023-01-31`\n",
      "\n",
      "Exemplo de código Python para obter os dados:\n",
      "```python\n",
      "from mosqlient import get_infodengue\n",
      "\n",
      "# return a pd.DataFrame with the data\n",
      "df = get_infodengue(start_date='2023-01-01',end_date='2023-01-31',disease='dengue')\n",
      "```\n",
      "\n"
     ]
    }
   ],
   "source": [
    "print(\"Pergunta:\", questions[5])\n",
    "print(\"Resposta:\", main.assistant_pipeline(questions[5]))"
   ]
  }
 ],
 "metadata": {
  "kernelspec": {
   "display_name": ".venv",
   "language": "python",
   "name": "python3"
  },
  "language_info": {
   "codemirror_mode": {
    "name": "ipython",
    "version": 3
   },
   "file_extension": ".py",
   "mimetype": "text/x-python",
   "name": "python",
   "nbconvert_exporter": "python",
   "pygments_lexer": "ipython3",
   "version": "3.11.12"
  }
 },
 "nbformat": 4,
 "nbformat_minor": 5
}
